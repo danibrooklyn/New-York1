# Настройка Git


*   Настройка ника и email
*   Добавление http ссылки GitHub

!git config --global user.name "danibrooklyn"
!git config --global user.email "dn2ilboss@mail.ru"

Стянем репозиторий себе на диск

git clone https://github.com/danibrooklyn/New-York1.git

# Математика Python

Все математические операции:


*   Сложение
*   Вычитание
*   Умножение
*   Возведение в степень
*   Деление
*   Целочисленное деление
*   Остаток от деления



1.   При обычном делении в ответе выводится не целове число, а вещественное.

10/2
5.0

2. Есть вещественный ноль
k=0.0
print(k)
print(k+2)

0.0
2.0


# Передача файла в репозиторий

!git add .
!git status


! git commit -m "Добавил файл conspects_dolgovdr"

username = 'danibrooklyn'
repo = 'NewYork1'

!git remote set-url origin https://{token}@github.com/{username}/{repo}.git
